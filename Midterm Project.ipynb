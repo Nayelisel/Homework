{
 "cells": [
  {
   "cell_type": "markdown",
   "metadata": {},
   "source": [
    "# Question 1"
   ]
  },
  {
   "cell_type": "code",
   "execution_count": 1,
   "metadata": {},
   "outputs": [],
   "source": [
    "unsorted = [2,4,6,8,4,5,2,1,9,0,4,6,7,4,3,2,1,9,10,3,7,9,6,0,1,3,5,6,7,8,9,10,2,3,6,8,9,10,6,7,4,3]\n",
    "count = {}\n",
    "unsorted.sort()"
   ]
  },
  {
   "cell_type": "code",
   "execution_count": 2,
   "metadata": {},
   "outputs": [
    {
     "name": "stdout",
     "output_type": "stream",
     "text": [
      "Output:\n",
      "\n",
      "0 : 2\n",
      "1 : 3\n",
      "2 : 4\n",
      "3 : 5\n",
      "4 : 5\n",
      "5 : 2\n",
      "6 : 6\n",
      "7 : 4\n",
      "8 : 3\n",
      "9 : 5\n",
      "10 : 3\n",
      "\n",
      "Explanation:\n",
      "\n",
      "Here 0 appears 2 times\n",
      "Here 1 appears 3 times\n",
      "Here 2 appears 4 times\n",
      "Here 3 appears 5 times\n",
      "Here 4 appears 5 times\n",
      "Here 5 appears 2 times\n",
      "Here 6 appears 6 times\n",
      "Here 7 appears 4 times\n",
      "Here 8 appears 3 times\n",
      "Here 9 appears 5 times\n",
      "Here 10 appears 3 times\n"
     ]
    }
   ],
   "source": [
    "for number in unsorted:\n",
    "    if number in count:\n",
    "        count[number] += 1\n",
    "    else: \n",
    "        count[number] = 1\n",
    "        \n",
    "print('Output:')  \n",
    "print()\n",
    "for key, value in count.items():\n",
    "    print(key,':',value)\n",
    "    \n",
    "print()\n",
    "print('Explanation:')\n",
    "print()\n",
    "for key, value in count.items():\n",
    "    print('Here', key, 'appears', value, 'times')"
   ]
  },
  {
   "cell_type": "code",
   "execution_count": 3,
   "metadata": {},
   "outputs": [],
   "source": [
    "import matplotlib\n",
    "import matplotlib.pyplot as plt\n",
    "import numpy as np"
   ]
  },
  {
   "cell_type": "code",
   "execution_count": 4,
   "metadata": {},
   "outputs": [
    {
     "data": {
      "image/png": "[encoded data removed]",
      "text/plain": [
       "<Figure size 432x288 with 1 Axes>"
      ]
     },
     "metadata": {
      "needs_background": "light"
     },
     "output_type": "display_data"
    }
   ],
   "source": [
    "x = count.keys()\n",
    "y = count.values()\n",
    "\n",
    "plt.xlabel('Element')\n",
    "plt.ylabel('Frequency')\n",
    "plt.bar(x,y)\n",
    "plt.show()"
   ]
  },
  {
   "cell_type": "code",
   "execution_count": 5,
   "metadata": {},
   "outputs": [
    {
     "data": {
      "text/plain": [
       "'{\"0\": 2, \"1\": 3, \"2\": 4, \"3\": 5, \"4\": 5, \"5\": 2, \"6\": 6, \"7\": 4, \"8\": 3, \"9\": 5, \"10\": 3}'"
      ]
     },
     "execution_count": 5,
     "metadata": {},
     "output_type": "execute_result"
    }
   ],
   "source": [
    "import json\n",
    "with open(\"Element_Frequencies.json\", \"w\") as out:\n",
    "    json.dump(count, out)\n",
    "\n",
    "rd = open(\"Element_Frequencies.json\", \"r\")\n",
    "rd.read()"
   ]
  },
  {
   "cell_type": "markdown",
   "metadata": {},
   "source": [
    "# Question 2"
   ]
  },
  {
   "cell_type": "code",
   "execution_count": 6,
   "metadata": {},
   "outputs": [],
   "source": [
    "import pandas as pd"
   ]
  },
  {
   "cell_type": "code",
   "execution_count": 7,
   "metadata": {},
   "outputs": [],
   "source": [
    "df = pd.read_json('your_posts_1.json')"
   ]
  },
  {
   "cell_type": "code",
   "execution_count": 8,
   "metadata": {},
   "outputs": [
    {
     "data": {
      "text/html": [
       "<div>\n",
       "<style scoped>\n",
       "    .dataframe tbody tr th:only-of-type {\n",
       "        vertical-align: middle;\n",
       "    }\n",
       "\n",
       "    .dataframe tbody tr th {\n",
       "        vertical-align: top;\n",
       "    }\n",
       "\n",
       "    .dataframe thead th {\n",
       "        text-align: right;\n",
       "    }\n",
       "</style>\n",
       "<table border=\"1\" class=\"dataframe\">\n",
       "  <thead>\n",
       "    <tr style=\"text-align: right;\">\n",
       "      <th></th>\n",
       "      <th>timestamp</th>\n",
       "      <th>attachments</th>\n",
       "      <th>tags</th>\n",
       "      <th>data</th>\n",
       "      <th>title</th>\n",
       "    </tr>\n",
       "  </thead>\n",
       "  <tbody>\n",
       "    <tr>\n",
       "      <th>0</th>\n",
       "      <td>2018-01-21 15:17:09</td>\n",
       "      <td>[{'data': [{'media': {'uri': 'posts/media/Seni...</td>\n",
       "      <td>[Ava Carollo, Grace Mitzen]</td>\n",
       "      <td>[]</td>\n",
       "      <td>Nayeli Selkis added 3 new photos.</td>\n",
       "    </tr>\n",
       "  </tbody>\n",
       "</table>\n",
       "</div>"
      ],
      "text/plain": [
       "            timestamp                                        attachments  \\\n",
       "0 2018-01-21 15:17:09  [{'data': [{'media': {'uri': 'posts/media/Seni...   \n",
       "\n",
       "                          tags data                              title  \n",
       "0  [Ava Carollo, Grace Mitzen]   []  Nayeli Selkis added 3 new photos.  "
      ]
     },
     "execution_count": 8,
     "metadata": {},
     "output_type": "execute_result"
    }
   ],
   "source": [
    "df.head(1)"
   ]
  },
  {
   "cell_type": "code",
   "execution_count": 9,
   "metadata": {},
   "outputs": [],
   "source": [
    "#rename timestamp column \n",
    "df.rename(columns={'timestamp': 'date'}, inplace=True)"
   ]
  },
  {
   "cell_type": "code",
   "execution_count": 10,
   "metadata": {},
   "outputs": [],
   "source": [
    "#drop uneccesary columns\n",
    "df = df.drop(['attachments', 'tags', 'title'], axis=1)"
   ]
  },
  {
   "cell_type": "code",
   "execution_count": 11,
   "metadata": {},
   "outputs": [
    {
     "data": {
      "text/plain": [
       "0    2018-01-21 15:17:09\n",
       "1    2018-01-25 13:57:44\n",
       "2    2018-01-25 14:04:06\n",
       "3    2018-03-02 06:12:51\n",
       "4    2018-03-10 20:52:30\n",
       "5    2018-04-15 17:06:50\n",
       "6    2018-05-28 16:14:37\n",
       "7    2018-10-20 22:24:45\n",
       "8    2019-01-25 16:44:57\n",
       "9    2019-02-14 16:08:13\n",
       "10   2019-02-15 01:42:28\n",
       "11   2019-02-28 03:59:11\n",
       "12   2019-02-28 18:22:00\n",
       "13   2019-03-07 21:00:46\n",
       "14   2019-03-18 18:06:15\n",
       "15   2019-04-05 01:50:38\n",
       "16   2019-04-08 04:05:48\n",
       "17   2019-04-26 18:20:42\n",
       "18   2019-05-28 20:03:15\n",
       "19   2019-09-30 21:52:41\n",
       "20   2019-10-07 21:26:22\n",
       "21   2019-11-03 04:21:42\n",
       "22   2019-11-12 01:05:11\n",
       "23   2019-11-19 18:02:56\n",
       "24   2019-11-26 18:38:46\n",
       "25   2020-01-03 14:45:55\n",
       "26   2020-01-13 03:34:51\n",
       "27   2020-01-15 15:28:26\n",
       "28   2020-02-02 23:17:18\n",
       "29   2020-02-12 22:34:27\n",
       "30   2020-02-14 21:46:04\n",
       "31   2020-02-24 21:59:52\n",
       "32   2020-03-02 22:36:22\n",
       "33   2020-09-24 00:46:26\n",
       "34   2021-01-08 22:21:40\n",
       "35   2021-06-29 01:57:15\n",
       "36   2021-08-08 02:39:47\n",
       "Name: date, dtype: datetime64[ns]"
      ]
     },
     "execution_count": 11,
     "metadata": {},
     "output_type": "execute_result"
    }
   ],
   "source": [
    "#datetime format\n",
    "pd.to_datetime(df['date'])"
   ]
  },
  {
   "cell_type": "code",
   "execution_count": 12,
   "metadata": {},
   "outputs": [
    {
     "name": "stdout",
     "output_type": "stream",
     "text": [
      "(37, 2)\n"
     ]
    }
   ],
   "source": [
    "print(df.shape)"
   ]
  },
  {
   "cell_type": "code",
   "execution_count": 13,
   "metadata": {},
   "outputs": [
    {
     "data": {
      "text/plain": [
       "date\n",
       "2018-01-01    3\n",
       "2018-02-01    0\n",
       "2018-03-01    2\n",
       "2018-04-01    1\n",
       "2018-05-01    1\n",
       "2018-06-01    0\n",
       "2018-07-01    0\n",
       "2018-08-01    0\n",
       "2018-09-01    0\n",
       "2018-10-01    1\n",
       "2018-11-01    0\n",
       "2018-12-01    0\n",
       "2019-01-01    1\n",
       "2019-02-01    4\n",
       "2019-03-01    2\n",
       "2019-04-01    3\n",
       "2019-05-01    1\n",
       "2019-06-01    0\n",
       "2019-07-01    0\n",
       "2019-08-01    0\n",
       "2019-09-01    1\n",
       "2019-10-01    1\n",
       "2019-11-01    4\n",
       "2019-12-01    0\n",
       "2020-01-01    3\n",
       "2020-02-01    4\n",
       "2020-03-01    1\n",
       "2020-04-01    0\n",
       "2020-05-01    0\n",
       "2020-06-01    0\n",
       "2020-07-01    0\n",
       "2020-08-01    0\n",
       "2020-09-01    1\n",
       "2020-10-01    0\n",
       "2020-11-01    0\n",
       "2020-12-01    0\n",
       "2021-01-01    1\n",
       "2021-02-01    0\n",
       "2021-03-01    0\n",
       "2021-04-01    0\n",
       "2021-05-01    0\n",
       "2021-06-01    1\n",
       "2021-07-01    0\n",
       "2021-08-01    1\n",
       "Freq: MS, Name: data, dtype: int64"
      ]
     },
     "execution_count": 13,
     "metadata": {},
     "output_type": "execute_result"
    }
   ],
   "source": [
    "df = df.set_index('date')\n",
    "post_counts = df['data'].resample('MS').size()\n",
    "post_counts"
   ]
  },
  {
   "cell_type": "code",
   "execution_count": 20,
   "metadata": {},
   "outputs": [],
   "source": [
    "import matplotlib \n",
    "import matplotlib.pyplot as plt\n",
    "from matplotlib.pyplot import figure\n",
    "import numpy as np"
   ]
  },
  {
   "cell_type": "code",
   "execution_count": 34,
   "metadata": {},
   "outputs": [
    {
     "data": {
      "image/png": "[encoded data removed]",
      "text/plain": [
       "<Figure size 1440x720 with 1 Axes>"
      ]
     },
     "metadata": {
      "needs_background": "light"
     },
     "output_type": "display_data"
    }
   ],
   "source": [
    "x = post_counts.index\n",
    "y = post_counts\n",
    "\n",
    "figure(figsize=(20,10))\n",
    "plt.xlabel('Date')\n",
    "plt.ylabel('Number of Posts')\n",
    "plt.bar(x, y, width=7)\n",
    "plt.show()"
   ]
  }
 ],
 "metadata": {
  "kernelspec": {
   "display_name": "Python 3",
   "language": "python",
   "name": "python3"
  },
  "language_info": {
   "codemirror_mode": {
    "name": "ipython",
    "version": 3
   },
   "file_extension": ".py",
   "mimetype": "text/x-python",
   "name": "python",
   "nbconvert_exporter": "python",
   "pygments_lexer": "ipython3",
   "version": "3.8.5"
  }
 },
 "nbformat": 4,
 "nbformat_minor": 4
}
