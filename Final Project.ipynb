{
 "cells": [
  {
   "cell_type": "code",
   "execution_count": 2,
   "metadata": {},
   "outputs": [],
   "source": [
    "def open_file():\n",
    "    # start infinite loop with while statement\n",
    "    while True:\n",
    "        filepath = input(\"Enter name of file: \") \n",
    "        # attempt to open the file name that was entered\n",
    "        try:            \n",
    "            file_object = open(filepath, 'r') \n",
    "            # if the file was found, return the file object and break out of the loop\n",
    "            return file_object \n",
    "        # if file object isn't found, return the print statement that there is an error \n",
    "        except FileNotFoundError:\n",
    "            print(\"Could not fine the file, please try again\")"
   ]
  },
  {
   "cell_type": "code",
   "execution_count": 3,
   "metadata": {},
   "outputs": [],
   "source": [
    "import string\n",
    "def read_data(fp):\n",
    "    # initiate empty dictionary \n",
    "    data_dict = {}\n",
    "    \n",
    "    # set line number equal to 1\n",
    "    line_number = 1\n",
    "    \n",
    "    # begin looping through each line of the file\n",
    "    for line in fp:\n",
    "        # make every line lowercase\n",
    "        line = line.lower()\n",
    "\n",
    "        # split line into words and add them to the list \"words\"\n",
    "        words = line.split()\n",
    "\n",
    "        # for each word in the list words\n",
    "        for word in words:\n",
    "\n",
    "            # for each punctuation mark in\n",
    "            # string.punctuation, replace that punctuation mark with ''\n",
    "            for mark in string.punctuation:\n",
    "                word = word.replace(mark, '')\n",
    "\n",
    "            # only add words to the dictionary that are alphabetic and \n",
    "            # greater than or equal to two letters \n",
    "            if word.isalpha() and len(word) >= 2:\n",
    "                # check if the word exists in the dictionary\n",
    "                if word in data_dict:\n",
    "                    # if so, update the corresponding value\n",
    "                    # with the current line number\n",
    "                    data_dict[word].add(line_number)\n",
    "                else:\n",
    "                    # otherwise, we need to add this word to the\n",
    "                    # data_dict\n",
    "                    data_dict[word] = { line_number }\n",
    "                    \n",
    "        # update the line number\n",
    "        line_number += 1\n",
    "    \n",
    "    # return the data_dict\n",
    "    return data_dict    "
   ]
  },
  {
   "cell_type": "code",
   "execution_count": 4,
   "metadata": {},
   "outputs": [
    {
     "data": {
      "text/plain": [
       "{'they': {1, 2},\n",
       " 'seek': {1, 2, 3},\n",
       " 'him': {1, 2, 3},\n",
       " 'here': {1},\n",
       " 'there': {2},\n",
       " 'those': {3},\n",
       " 'frenchies': {3},\n",
       " 'everywhere': {3}}"
      ]
     },
     "execution_count": 4,
     "metadata": {},
     "output_type": "execute_result"
    }
   ],
   "source": [
    "#Funtion Test\n",
    "\n",
    "fp = open(\"pimpernel.txt\", \"r\")\n",
    "read_data(fp)"
   ]
  },
  {
   "cell_type": "code",
   "execution_count": 5,
   "metadata": {},
   "outputs": [],
   "source": [
    "def find_cooccurence(D, inp_str):\n",
    "    # split inp_str into a list of words\n",
    "    words = inp_str.split()\n",
    "\n",
    "    # find line number for each word.\n",
    "    # Use intersection operations on the sets from D\n",
    "\n",
    "    # check for case where the no words are passed\n",
    "    # or where even the first element of words isn't in\n",
    "    # the data_dict\n",
    "    if len(words) <= 0:\n",
    "        return []\n",
    "\n",
    "    for mark in string.punctuation:\n",
    "        words[0] = words[0].replace(mark, '')\n",
    "    words[0] = words[0].lower()\n",
    "    \n",
    "    if words[0] not in D:\n",
    "        return[]\n",
    "    \n",
    "    # get first set of lines that the first query word belongs to\n",
    "    result_set = D[words[0]]\n",
    "\n",
    "    # for each word in the query words\n",
    "    for word in words:\n",
    "        \n",
    "        word = word.lower()\n",
    "        for mark in string.punctuation:\n",
    "            word = word.replace(mark, '')\n",
    "            \n",
    "        # check if that word appears\n",
    "        # in D, if not, return empty list\n",
    "        if word not in D:\n",
    "            print(\"Word not in Dictionary\")\n",
    "            return []\n",
    "\n",
    "        # otherwise perform intersection on result_set\n",
    "        # and D[word] set\n",
    "        word_line_set = D[word]\n",
    "        result_set = result_set.intersection(word_line_set)\n",
    "\n",
    "    # convert the result set into a sorted list\n",
    "    sorted_list = sorted(result_set)\n",
    "    return sorted_list"
   ]
  },
  {
   "cell_type": "code",
   "execution_count": 6,
   "metadata": {},
   "outputs": [
    {
     "data": {
      "text/plain": [
       "[1, 2, 3]"
      ]
     },
     "execution_count": 6,
     "metadata": {},
     "output_type": "execute_result"
    }
   ],
   "source": [
    "#Function Test\n",
    "\n",
    "D = {'those': {3}, 'here': {1}, 'everywhere': {3}, 'him': {1, 2, 3},\n",
    "'frenchies': {3}, 'seek': {1, 2, 3}, 'they': {1, 2}, 'there': {2}}\n",
    "find_cooccurence(D, \"him\")"
   ]
  },
  {
   "cell_type": "code",
   "execution_count": 7,
   "metadata": {},
   "outputs": [
    {
     "data": {
      "text/plain": [
       "[1, 2]"
      ]
     },
     "execution_count": 7,
     "metadata": {},
     "output_type": "execute_result"
    }
   ],
   "source": [
    "#Function Test\n",
    "find_cooccurence(D, \"they\")"
   ]
  },
  {
   "cell_type": "code",
   "execution_count": 8,
   "metadata": {},
   "outputs": [
    {
     "data": {
      "text/plain": [
       "[1, 2]"
      ]
     },
     "execution_count": 8,
     "metadata": {},
     "output_type": "execute_result"
    }
   ],
   "source": [
    "#Function Test\n",
    "find_cooccurence(D, \"they\")"
   ]
  },
  {
   "cell_type": "code",
   "execution_count": 9,
   "metadata": {},
   "outputs": [
    {
     "data": {
      "text/plain": [
       "[]"
      ]
     },
     "execution_count": 9,
     "metadata": {},
     "output_type": "execute_result"
    }
   ],
   "source": [
    "#Function Test\n",
    "find_cooccurence(D, \"anywhere\")"
   ]
  },
  {
   "cell_type": "code",
   "execution_count": 10,
   "metadata": {},
   "outputs": [
    {
     "name": "stdout",
     "output_type": "stream",
     "text": [
      "Enter name of file: einstein.txt\n",
      "Enter query words: the\n",
      "Line Co-occurence [3, 4, 7]\n",
      "Enter query words: the is\n",
      "Line Co-occurence [3, 7]\n",
      "Enter query words: true knowledge imagination\n",
      "Line Co-occurence [3]\n",
      "Enter query words: q\n"
     ]
    }
   ],
   "source": [
    "def main():\n",
    "    # open a new file\n",
    "    fp = open_file()\n",
    "    \n",
    "    # read the file data\n",
    "    file_dictionary = read_data(fp)\n",
    "\n",
    "    # get query strings from the user\n",
    "    inp_str = \" \"\n",
    "    while True:\n",
    "        new_input = input(\"Enter query words: \").strip()\n",
    "\n",
    "        # check if new_input == q or 'Q'\n",
    "        # and break out of loop\n",
    "        if new_input.lower() == 'q':            \n",
    "            break\n",
    "            \n",
    "    \n",
    "    # now call find_cooccurrance with file dictionary and input string\n",
    "        lines = find_cooccurence(file_dictionary, new_input)\n",
    "    \n",
    "        print(\"Line Co-occurence\", lines)\n",
    "    return lines\n",
    "\n",
    "if __name__ == \"__main__\":\n",
    "    main()"
   ]
  },
  {
   "cell_type": "code",
   "execution_count": 11,
   "metadata": {},
   "outputs": [
    {
     "name": "stdout",
     "output_type": "stream",
     "text": [
      "Enter name of file: xxxx\n",
      "Could not fine the file, please try again\n",
      "Enter name of file: einstein.txt\n",
      "Enter query words: The\n",
      "Line Co-occurence [3, 4, 7]\n",
      "Enter query words: can't\n",
      "Line Co-occurence [6]\n",
      "Enter query words: nature\n",
      "Line Co-occurence [2]\n",
      "Enter query words: cat\n",
      "Line Co-occurence []\n",
      "Enter query words: \n",
      "Line Co-occurence []\n",
      "Enter query words: Q\n"
     ]
    }
   ],
   "source": [
    "if __name__ == \"__main__\":\n",
    "    main()"
   ]
  },
  {
   "cell_type": "code",
   "execution_count": 12,
   "metadata": {},
   "outputs": [
    {
     "name": "stdout",
     "output_type": "stream",
     "text": [
      "Enter name of file: gettysburg.txt\n",
      "Enter query words: nation\n",
      "Line Co-occurence [2, 6, 9, 23]\n",
      "Enter query words: here dead\n",
      "Line Co-occurence [14, 22]\n",
      "Enter query words: It is\n",
      "Line Co-occurence [10, 17, 19]\n",
      "Enter query words: q\n"
     ]
    }
   ],
   "source": [
    "if __name__ == \"__main__\":\n",
    "    main()"
   ]
  },
  {
   "cell_type": "code",
   "execution_count": null,
   "metadata": {},
   "outputs": [],
   "source": []
  }
 ],
 "metadata": {
  "kernelspec": {
   "display_name": "Python 3",
   "language": "python",
   "name": "python3"
  }
 },
 "nbformat": 4,
 "nbformat_minor": 4
}
