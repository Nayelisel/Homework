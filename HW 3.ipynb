{
 "cells": [
  {
   "cell_type": "markdown",
   "metadata": {},
   "source": [
    "Question 0"
   ]
  },
  {
   "cell_type": "code",
   "execution_count": 94,
   "metadata": {},
   "outputs": [],
   "source": [
    "marks = {'Andy':88, 'Amy':66, 'James': 90, 'Jules': 55, 'Arthur': 77}"
   ]
  },
  {
   "cell_type": "markdown",
   "metadata": {},
   "source": [
    "Question 1"
   ]
  },
  {
   "cell_type": "code",
   "execution_count": 23,
   "metadata": {},
   "outputs": [
    {
     "name": "stdout",
     "output_type": "stream",
     "text": [
      "Andy : 88\n",
      "Amy : 66\n",
      "James : 90\n",
      "Jules : 55\n",
      "Arthur : 77\n"
     ]
    }
   ],
   "source": [
    "for name, grade in marks.items():\n",
    "    print(name,':', grade)"
   ]
  },
  {
   "cell_type": "markdown",
   "metadata": {},
   "source": [
    "Question 2"
   ]
  },
  {
   "cell_type": "code",
   "execution_count": 95,
   "metadata": {},
   "outputs": [
    {
     "name": "stdout",
     "output_type": "stream",
     "text": [
      "Mean grade: 75.2\n",
      "Max grade: 90\n",
      "Min grade: 55\n"
     ]
    }
   ],
   "source": [
    "import statistics as stats\n",
    "import math\n",
    "grades = []\n",
    "for grade in marks.values():\n",
    "    grades.append(grade)\n",
    "    \n",
    "print('Mean grade:', stats.mean(grades))\n",
    "print('Max grade:', max(grades))\n",
    "print('Min grade:', min(grades))"
   ]
  },
  {
   "cell_type": "markdown",
   "metadata": {},
   "source": [
    "Question 3"
   ]
  },
  {
   "cell_type": "code",
   "execution_count": 96,
   "metadata": {},
   "outputs": [
    {
     "name": "stdout",
     "output_type": "stream",
     "text": [
      "Andy\n",
      "Amy\n"
     ]
    }
   ],
   "source": [
    "for name in marks.keys():\n",
    "    if 'J' in name:\n",
    "        break\n",
    "    else: \n",
    "        print(name)"
   ]
  },
  {
   "cell_type": "markdown",
   "metadata": {},
   "source": [
    "Question 4"
   ]
  },
  {
   "cell_type": "code",
   "execution_count": 97,
   "metadata": {},
   "outputs": [
    {
     "name": "stdout",
     "output_type": "stream",
     "text": [
      "Andy\n",
      "Amy\n",
      "Arthur\n"
     ]
    }
   ],
   "source": [
    "for name in marks.keys():\n",
    "    if 'J' in name:\n",
    "        continue\n",
    "    else: \n",
    "        print(name)"
   ]
  },
  {
   "cell_type": "markdown",
   "metadata": {},
   "source": [
    "Question 5"
   ]
  },
  {
   "cell_type": "code",
   "execution_count": 98,
   "metadata": {},
   "outputs": [
    {
     "name": "stdout",
     "output_type": "stream",
     "text": [
      "Grade: 66\n",
      "Cannot find this student's name\n"
     ]
    }
   ],
   "source": [
    "def student_grade(student):\n",
    "    for name in marks:\n",
    "        if student == name:\n",
    "            print('Grade:', marks[name])\n",
    "            break\n",
    "    else:\n",
    "        print('Cannot find this student\\'s name')\n",
    "        \n",
    "student_grade('Amy')\n",
    "student_grade('Beth')"
   ]
  },
  {
   "cell_type": "markdown",
   "metadata": {},
   "source": [
    "Question 6"
   ]
  },
  {
   "cell_type": "code",
   "execution_count": 99,
   "metadata": {},
   "outputs": [
    {
     "name": "stdout",
     "output_type": "stream",
     "text": [
      "1 1\n",
      "2 4\n",
      "3 27\n",
      "4 256\n",
      "5 3125\n",
      "6 46656\n",
      "7 823543\n",
      "greater than 8\n"
     ]
    }
   ],
   "source": [
    "\n",
    "def less_than_power(num):\n",
    "    n = 1\n",
    "    while n < num:\n",
    "        print(n, n**n)\n",
    "        n+=1\n",
    "    else:\n",
    "        print('greater than', n)\n",
    "    \n",
    "\n",
    "less_than_power(8)"
   ]
  },
  {
   "cell_type": "markdown",
   "metadata": {},
   "source": [
    "Question 7"
   ]
  },
  {
   "cell_type": "code",
   "execution_count": 100,
   "metadata": {},
   "outputs": [
    {
     "data": {
      "text/plain": [
       "325"
      ]
     },
     "execution_count": 100,
     "metadata": {},
     "output_type": "execute_result"
    }
   ],
   "source": [
    "def number_add(num):\n",
    "    sum = 0\n",
    "    n = 1\n",
    "    while n <= num:\n",
    "        sum+=n\n",
    "        n+=1\n",
    "    return sum\n",
    "\n",
    "number_add(25)"
   ]
  },
  {
   "cell_type": "markdown",
   "metadata": {},
   "source": [
    "Question 8"
   ]
  },
  {
   "cell_type": "code",
   "execution_count": 103,
   "metadata": {},
   "outputs": [
    {
     "name": "stdout",
     "output_type": "stream",
     "text": [
      "0\n",
      "1\n",
      "3\n",
      "6\n",
      "10\n",
      "15\n",
      "21\n",
      "28\n",
      "36\n",
      "45\n",
      "55\n"
     ]
    }
   ],
   "source": [
    "def number_step_add(num):\n",
    "    sum = 0\n",
    "    n = 1\n",
    "    for n in range(num+1):\n",
    "        sum+=n\n",
    "        n+=1\n",
    "        print(sum)\n",
    "number_step_add(10)\n"
   ]
  },
  {
   "cell_type": "markdown",
   "metadata": {},
   "source": [
    "Question 9"
   ]
  },
  {
   "cell_type": "code",
   "execution_count": 110,
   "metadata": {},
   "outputs": [
    {
     "data": {
      "text/plain": [
       "9"
      ]
     },
     "execution_count": 110,
     "metadata": {},
     "output_type": "execute_result"
    }
   ],
   "source": [
    "def minimal(v1, v2, v3, v4):\n",
    "    min_value = v1\n",
    "    if v2 < min_value:\n",
    "        min_value = v2\n",
    "    if v3 < min_value:\n",
    "        min_value = v3\n",
    "    if v4 < min_value:\n",
    "        min_value = v4\n",
    "    return min_value \n",
    "\n",
    "minimal(11,15,12,9)  "
   ]
  },
  {
   "cell_type": "code",
   "execution_count": null,
   "metadata": {},
   "outputs": [],
   "source": []
  }
 ],
 "metadata": {
  "kernelspec": {
   "display_name": "Python 3",
   "language": "python",
   "name": "python3"
  },
  "language_info": {
   "codemirror_mode": {
    "name": "ipython",
    "version": 3
   },
   "file_extension": ".py",
   "mimetype": "text/x-python",
   "name": "python",
   "nbconvert_exporter": "python",
   "pygments_lexer": "ipython3",
   "version": "3.8.5"
  }
 },
 "nbformat": 4,
 "nbformat_minor": 4
}
