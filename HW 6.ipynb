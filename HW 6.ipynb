{
 "cells": [
  {
   "cell_type": "markdown",
   "id": "6e37c6a9",
   "metadata": {},
   "source": [
    "Question 1"
   ]
  },
  {
   "cell_type": "code",
   "execution_count": 53,
   "id": "3143c19c",
   "metadata": {},
   "outputs": [
    {
     "data": {
      "text/html": [
       "<table>\n",
       "<tbody>\n",
       "\t<tr><td>7 </td><td>9 </td><td>12</td></tr>\n",
       "\t<tr><td>2 </td><td>4 </td><td>13</td></tr>\n",
       "</tbody>\n",
       "</table>\n"
      ],
      "text/latex": [
       "\\begin{tabular}{lll}\n",
       "\t 7  & 9  & 12\\\\\n",
       "\t 2  & 4  & 13\\\\\n",
       "\\end{tabular}\n"
      ],
      "text/markdown": [
       "\n",
       "| 7  | 9  | 12 |\n",
       "| 2  | 4  | 13 |\n",
       "\n"
      ],
      "text/plain": [
       "     [,1] [,2] [,3]\n",
       "[1,] 7    9    12  \n",
       "[2,] 2    4    13  "
      ]
     },
     "metadata": {},
     "output_type": "display_data"
    }
   ],
   "source": [
    "matrixA <- matrix(c(7, 2, 9, 4, 12, 13), nrow = 2, ncol = 3)\n",
    "matrixA"
   ]
  },
  {
   "cell_type": "code",
   "execution_count": 54,
   "id": "82e312cc",
   "metadata": {},
   "outputs": [
    {
     "data": {
      "text/html": [
       "<table>\n",
       "<tbody>\n",
       "\t<tr><td>1 </td><td>7 </td><td>12</td><td>19</td></tr>\n",
       "\t<tr><td>2 </td><td>8 </td><td>13</td><td>20</td></tr>\n",
       "\t<tr><td>3 </td><td>9 </td><td>14</td><td>21</td></tr>\n",
       "</tbody>\n",
       "</table>\n"
      ],
      "text/latex": [
       "\\begin{tabular}{llll}\n",
       "\t 1  & 7  & 12 & 19\\\\\n",
       "\t 2  & 8  & 13 & 20\\\\\n",
       "\t 3  & 9  & 14 & 21\\\\\n",
       "\\end{tabular}\n"
      ],
      "text/markdown": [
       "\n",
       "| 1  | 7  | 12 | 19 |\n",
       "| 2  | 8  | 13 | 20 |\n",
       "| 3  | 9  | 14 | 21 |\n",
       "\n"
      ],
      "text/plain": [
       "     [,1] [,2] [,3] [,4]\n",
       "[1,] 1    7    12   19  \n",
       "[2,] 2    8    13   20  \n",
       "[3,] 3    9    14   21  "
      ]
     },
     "metadata": {},
     "output_type": "display_data"
    }
   ],
   "source": [
    "matrixB <- matrix(c(1, 2, 3, 7, 8, 9, 12, 13, 14, 19, 20, 21), nrow = 3, ncol = 4)\n",
    "matrixB"
   ]
  },
  {
   "cell_type": "code",
   "execution_count": 55,
   "id": "f7eb8171",
   "metadata": {},
   "outputs": [
    {
     "data": {
      "text/html": [
       "<table>\n",
       "<tbody>\n",
       "\t<tr><td>61 </td><td>229</td><td>369</td><td>565</td></tr>\n",
       "\t<tr><td>49 </td><td>163</td><td>258</td><td>391</td></tr>\n",
       "</tbody>\n",
       "</table>\n"
      ],
      "text/latex": [
       "\\begin{tabular}{llll}\n",
       "\t 61  & 229 & 369 & 565\\\\\n",
       "\t 49  & 163 & 258 & 391\\\\\n",
       "\\end{tabular}\n"
      ],
      "text/markdown": [
       "\n",
       "| 61  | 229 | 369 | 565 |\n",
       "| 49  | 163 | 258 | 391 |\n",
       "\n"
      ],
      "text/plain": [
       "     [,1] [,2] [,3] [,4]\n",
       "[1,] 61   229  369  565 \n",
       "[2,] 49   163  258  391 "
      ]
     },
     "metadata": {},
     "output_type": "display_data"
    }
   ],
   "source": [
    "matrixA%*%matrixB"
   ]
  },
  {
   "cell_type": "markdown",
   "id": "7e6b7f0b",
   "metadata": {},
   "source": [
    "Question 2"
   ]
  },
  {
   "cell_type": "code",
   "execution_count": 56,
   "id": "5fc3c4f1",
   "metadata": {},
   "outputs": [],
   "source": [
    "data <- read.csv('your_posts_2.csv') #read in facebook data CSV\n",
    "#the CSV was reworked to be more manageable - the JSON file and the original CSV would not load or format correctly "
   ]
  },
  {
   "cell_type": "code",
   "execution_count": 57,
   "id": "72157a18",
   "metadata": {},
   "outputs": [
    {
     "data": {
      "text/html": [
       "<table>\n",
       "<thead><tr><th scope=col>timestamp</th><th scope=col>data</th></tr></thead>\n",
       "<tbody>\n",
       "\t<tr><td>2018-01-21</td><td>0         </td></tr>\n",
       "</tbody>\n",
       "</table>\n"
      ],
      "text/latex": [
       "\\begin{tabular}{r|ll}\n",
       " timestamp & data\\\\\n",
       "\\hline\n",
       "\t 2018-01-21 & 0         \\\\\n",
       "\\end{tabular}\n"
      ],
      "text/markdown": [
       "\n",
       "| timestamp | data |\n",
       "|---|---|\n",
       "| 2018-01-21 | 0          |\n",
       "\n"
      ],
      "text/plain": [
       "  timestamp  data\n",
       "1 2018-01-21 0   "
      ]
     },
     "metadata": {},
     "output_type": "display_data"
    }
   ],
   "source": [
    "data[1,] "
   ]
  },
  {
   "cell_type": "code",
   "execution_count": 58,
   "id": "a15d0d2c",
   "metadata": {},
   "outputs": [
    {
     "data": {
      "text/html": [
       "<table>\n",
       "<thead><tr><th scope=col>Time</th><th scope=col>Data</th></tr></thead>\n",
       "<tbody>\n",
       "\t<tr><td>2018-01-21</td><td>0         </td></tr>\n",
       "\t<tr><td>2018-01-25</td><td>0         </td></tr>\n",
       "\t<tr><td>2018-01-25</td><td>0         </td></tr>\n",
       "\t<tr><td>2018-03-02</td><td>1         </td></tr>\n",
       "\t<tr><td>2018-03-10</td><td>0         </td></tr>\n",
       "\t<tr><td>2018-04-15</td><td>0         </td></tr>\n",
       "\t<tr><td>2018-05-28</td><td>0         </td></tr>\n",
       "\t<tr><td>2018-10-20</td><td>1         </td></tr>\n",
       "\t<tr><td>2019-01-25</td><td>0         </td></tr>\n",
       "\t<tr><td>2019-02-14</td><td>1         </td></tr>\n",
       "\t<tr><td>2019-02-14</td><td>0         </td></tr>\n",
       "\t<tr><td>2019-02-27</td><td>1         </td></tr>\n",
       "\t<tr><td>2019-02-28</td><td>1         </td></tr>\n",
       "\t<tr><td>2019-03-07</td><td>0         </td></tr>\n",
       "\t<tr><td>2019-03-18</td><td>1         </td></tr>\n",
       "\t<tr><td>2019-04-04</td><td>1         </td></tr>\n",
       "\t<tr><td>2019-04-08</td><td>1         </td></tr>\n",
       "\t<tr><td>2019-04-26</td><td>0         </td></tr>\n",
       "\t<tr><td>2019-05-28</td><td>2         </td></tr>\n",
       "\t<tr><td>2019-09-30</td><td>0         </td></tr>\n",
       "\t<tr><td>2019-10-07</td><td>1         </td></tr>\n",
       "\t<tr><td>2019-11-03</td><td>0         </td></tr>\n",
       "\t<tr><td>2019-11-11</td><td>1         </td></tr>\n",
       "\t<tr><td>2019-11-19</td><td>1         </td></tr>\n",
       "\t<tr><td>2019-11-26</td><td>1         </td></tr>\n",
       "\t<tr><td>2020-01-03</td><td>0         </td></tr>\n",
       "\t<tr><td>2020-01-12</td><td>1         </td></tr>\n",
       "\t<tr><td>2020-01-15</td><td>2         </td></tr>\n",
       "\t<tr><td>2020-02-02</td><td>1         </td></tr>\n",
       "\t<tr><td>2020-02-12</td><td>1         </td></tr>\n",
       "\t<tr><td>2020-02-14</td><td>1         </td></tr>\n",
       "\t<tr><td>2020-02-24</td><td>1         </td></tr>\n",
       "\t<tr><td>2020-03-02</td><td>1         </td></tr>\n",
       "\t<tr><td>2020-09-23</td><td>1         </td></tr>\n",
       "\t<tr><td>2021-01-08</td><td>0         </td></tr>\n",
       "\t<tr><td>2021-06-28</td><td>0         </td></tr>\n",
       "\t<tr><td>2021-08-07</td><td>0         </td></tr>\n",
       "</tbody>\n",
       "</table>\n"
      ],
      "text/latex": [
       "\\begin{tabular}{r|ll}\n",
       " Time & Data\\\\\n",
       "\\hline\n",
       "\t 2018-01-21 & 0         \\\\\n",
       "\t 2018-01-25 & 0         \\\\\n",
       "\t 2018-01-25 & 0         \\\\\n",
       "\t 2018-03-02 & 1         \\\\\n",
       "\t 2018-03-10 & 0         \\\\\n",
       "\t 2018-04-15 & 0         \\\\\n",
       "\t 2018-05-28 & 0         \\\\\n",
       "\t 2018-10-20 & 1         \\\\\n",
       "\t 2019-01-25 & 0         \\\\\n",
       "\t 2019-02-14 & 1         \\\\\n",
       "\t 2019-02-14 & 0         \\\\\n",
       "\t 2019-02-27 & 1         \\\\\n",
       "\t 2019-02-28 & 1         \\\\\n",
       "\t 2019-03-07 & 0         \\\\\n",
       "\t 2019-03-18 & 1         \\\\\n",
       "\t 2019-04-04 & 1         \\\\\n",
       "\t 2019-04-08 & 1         \\\\\n",
       "\t 2019-04-26 & 0         \\\\\n",
       "\t 2019-05-28 & 2         \\\\\n",
       "\t 2019-09-30 & 0         \\\\\n",
       "\t 2019-10-07 & 1         \\\\\n",
       "\t 2019-11-03 & 0         \\\\\n",
       "\t 2019-11-11 & 1         \\\\\n",
       "\t 2019-11-19 & 1         \\\\\n",
       "\t 2019-11-26 & 1         \\\\\n",
       "\t 2020-01-03 & 0         \\\\\n",
       "\t 2020-01-12 & 1         \\\\\n",
       "\t 2020-01-15 & 2         \\\\\n",
       "\t 2020-02-02 & 1         \\\\\n",
       "\t 2020-02-12 & 1         \\\\\n",
       "\t 2020-02-14 & 1         \\\\\n",
       "\t 2020-02-24 & 1         \\\\\n",
       "\t 2020-03-02 & 1         \\\\\n",
       "\t 2020-09-23 & 1         \\\\\n",
       "\t 2021-01-08 & 0         \\\\\n",
       "\t 2021-06-28 & 0         \\\\\n",
       "\t 2021-08-07 & 0         \\\\\n",
       "\\end{tabular}\n"
      ],
      "text/markdown": [
       "\n",
       "| Time | Data |\n",
       "|---|---|\n",
       "| 2018-01-21 | 0          |\n",
       "| 2018-01-25 | 0          |\n",
       "| 2018-01-25 | 0          |\n",
       "| 2018-03-02 | 1          |\n",
       "| 2018-03-10 | 0          |\n",
       "| 2018-04-15 | 0          |\n",
       "| 2018-05-28 | 0          |\n",
       "| 2018-10-20 | 1          |\n",
       "| 2019-01-25 | 0          |\n",
       "| 2019-02-14 | 1          |\n",
       "| 2019-02-14 | 0          |\n",
       "| 2019-02-27 | 1          |\n",
       "| 2019-02-28 | 1          |\n",
       "| 2019-03-07 | 0          |\n",
       "| 2019-03-18 | 1          |\n",
       "| 2019-04-04 | 1          |\n",
       "| 2019-04-08 | 1          |\n",
       "| 2019-04-26 | 0          |\n",
       "| 2019-05-28 | 2          |\n",
       "| 2019-09-30 | 0          |\n",
       "| 2019-10-07 | 1          |\n",
       "| 2019-11-03 | 0          |\n",
       "| 2019-11-11 | 1          |\n",
       "| 2019-11-19 | 1          |\n",
       "| 2019-11-26 | 1          |\n",
       "| 2020-01-03 | 0          |\n",
       "| 2020-01-12 | 1          |\n",
       "| 2020-01-15 | 2          |\n",
       "| 2020-02-02 | 1          |\n",
       "| 2020-02-12 | 1          |\n",
       "| 2020-02-14 | 1          |\n",
       "| 2020-02-24 | 1          |\n",
       "| 2020-03-02 | 1          |\n",
       "| 2020-09-23 | 1          |\n",
       "| 2021-01-08 | 0          |\n",
       "| 2021-06-28 | 0          |\n",
       "| 2021-08-07 | 0          |\n",
       "\n"
      ],
      "text/plain": [
       "   Time       Data\n",
       "1  2018-01-21 0   \n",
       "2  2018-01-25 0   \n",
       "3  2018-01-25 0   \n",
       "4  2018-03-02 1   \n",
       "5  2018-03-10 0   \n",
       "6  2018-04-15 0   \n",
       "7  2018-05-28 0   \n",
       "8  2018-10-20 1   \n",
       "9  2019-01-25 0   \n",
       "10 2019-02-14 1   \n",
       "11 2019-02-14 0   \n",
       "12 2019-02-27 1   \n",
       "13 2019-02-28 1   \n",
       "14 2019-03-07 0   \n",
       "15 2019-03-18 1   \n",
       "16 2019-04-04 1   \n",
       "17 2019-04-08 1   \n",
       "18 2019-04-26 0   \n",
       "19 2019-05-28 2   \n",
       "20 2019-09-30 0   \n",
       "21 2019-10-07 1   \n",
       "22 2019-11-03 0   \n",
       "23 2019-11-11 1   \n",
       "24 2019-11-19 1   \n",
       "25 2019-11-26 1   \n",
       "26 2020-01-03 0   \n",
       "27 2020-01-12 1   \n",
       "28 2020-01-15 2   \n",
       "29 2020-02-02 1   \n",
       "30 2020-02-12 1   \n",
       "31 2020-02-14 1   \n",
       "32 2020-02-24 1   \n",
       "33 2020-03-02 1   \n",
       "34 2020-09-23 1   \n",
       "35 2021-01-08 0   \n",
       "36 2021-06-28 0   \n",
       "37 2021-08-07 0   "
      ]
     },
     "metadata": {},
     "output_type": "display_data"
    }
   ],
   "source": [
    "names(data)[1]<- 'Time'\n",
    "names(data)[2]<- 'Data'\n",
    "data"
   ]
  },
  {
   "cell_type": "code",
   "execution_count": 59,
   "id": "d489401e",
   "metadata": {},
   "outputs": [
    {
     "data": {
      "text/html": [
       "'data.frame'"
      ],
      "text/latex": [
       "'data.frame'"
      ],
      "text/markdown": [
       "'data.frame'"
      ],
      "text/plain": [
       "[1] \"data.frame\""
      ]
     },
     "metadata": {},
     "output_type": "display_data"
    }
   ],
   "source": [
    "class(data)"
   ]
  },
  {
   "cell_type": "code",
   "execution_count": 60,
   "id": "420f8d6a",
   "metadata": {},
   "outputs": [],
   "source": [
    "fb_dates <- data"
   ]
  },
  {
   "cell_type": "code",
   "execution_count": 61,
   "id": "efc82c54",
   "metadata": {},
   "outputs": [],
   "source": [
    "fb_dates$Time <- as.Date(fb_dates$Time)"
   ]
  },
  {
   "cell_type": "code",
   "execution_count": 62,
   "id": "2a870fd6",
   "metadata": {},
   "outputs": [],
   "source": [
    "Data <- c(data[,2])"
   ]
  },
  {
   "cell_type": "code",
   "execution_count": 63,
   "id": "6bcc6c88",
   "metadata": {},
   "outputs": [
    {
     "data": {
      "image/png": "[encoded data removed]",
      "text/plain": [
       "Plot with title “Facebook Activity”"
      ]
     },
     "metadata": {},
     "output_type": "display_data"
    }
   ],
   "source": [
    "barplot(Data, names.arg = fb_dates$Time, col = \"blue\", main = \"Facebook Activity\", xlab = \"Date\", ylab = \"Number of Posts\")"
   ]
  }
 ],
 "metadata": {
  "kernelspec": {
   "display_name": "R",
   "language": "R",
   "name": "ir"
  },
  "language_info": {
   "codemirror_mode": "r",
   "file_extension": ".r",
   "mimetype": "text/x-r-source",
   "name": "R",
   "pygments_lexer": "r",
   "version": "3.6.1"
  }
 },
 "nbformat": 4,
 "nbformat_minor": 5
}
