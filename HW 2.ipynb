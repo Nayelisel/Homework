{
 "cells": [
  {
   "cell_type": "markdown",
   "metadata": {},
   "source": [
    "Question 1"
   ]
  },
  {
   "cell_type": "code",
   "execution_count": 22,
   "metadata": {},
   "outputs": [
    {
     "name": "stdout",
     "output_type": "stream",
     "text": [
      "0\n",
      "1\n",
      "2\n",
      "3\n",
      "4\n"
     ]
    }
   ],
   "source": [
    "n = 0 \n",
    "while n < 10:\n",
    "    print(n)\n",
    "    n+=1\n",
    "    if n == 5:\n",
    "        break"
   ]
  },
  {
   "cell_type": "markdown",
   "metadata": {},
   "source": [
    "Question 2"
   ]
  },
  {
   "cell_type": "code",
   "execution_count": 23,
   "metadata": {},
   "outputs": [
    {
     "name": "stdout",
     "output_type": "stream",
     "text": [
      "0\n",
      "1\n",
      "2\n",
      "3\n",
      "4\n",
      "5 is not less than 5\n"
     ]
    }
   ],
   "source": [
    "n = 0 \n",
    "while n < 5:\n",
    "    print(n)\n",
    "    n+=1\n",
    "    \n",
    "print(n, 'is not less than', n)"
   ]
  },
  {
   "cell_type": "markdown",
   "metadata": {},
   "source": [
    "Question 3"
   ]
  },
  {
   "cell_type": "code",
   "execution_count": 24,
   "metadata": {},
   "outputs": [],
   "source": [
    "fruits = ['Watermelon','Strawberries','Apple','Nectarine' ]"
   ]
  },
  {
   "cell_type": "code",
   "execution_count": 25,
   "metadata": {},
   "outputs": [
    {
     "name": "stdout",
     "output_type": "stream",
     "text": [
      "I like Watermelon\n",
      "I like Strawberries\n",
      "Apple is really a fruit?\n"
     ]
    }
   ],
   "source": [
    "for i in fruits:\n",
    "    if i == \"Apple\":\n",
    "        break\n",
    "    print(\"I like\", i)\n",
    "print(i, \"is really a fruit?\")    "
   ]
  },
  {
   "cell_type": "markdown",
   "metadata": {},
   "source": [
    "Question 4"
   ]
  },
  {
   "cell_type": "code",
   "execution_count": 26,
   "metadata": {},
   "outputs": [
    {
     "name": "stdout",
     "output_type": "stream",
     "text": [
      "465\n"
     ]
    }
   ],
   "source": [
    "n = 1\n",
    "num = 0 \n",
    "while n <= 30:\n",
    "    num+=n\n",
    "    n+=1\n",
    "print(num)"
   ]
  },
  {
   "cell_type": "markdown",
   "metadata": {},
   "source": [
    "Question 5"
   ]
  },
  {
   "cell_type": "code",
   "execution_count": 27,
   "metadata": {},
   "outputs": [],
   "source": [
    "Weather = {'sunny':'play','rainy':'watch TV','cloudy':'walk'}"
   ]
  },
  {
   "cell_type": "code",
   "execution_count": 28,
   "metadata": {},
   "outputs": [
    {
     "name": "stdout",
     "output_type": "stream",
     "text": [
      "When sunny let us play\n",
      "When rainy let us watch TV\n",
      "When cloudy let us walk\n"
     ]
    }
   ],
   "source": [
    "for key, value in Weather.items():\n",
    "    print(\"When\", key, \"let us\", value)"
   ]
  },
  {
   "cell_type": "code",
   "execution_count": 29,
   "metadata": {},
   "outputs": [
    {
     "name": "stdout",
     "output_type": "stream",
     "text": [
      "{'sunny': 'play', 'rainy': 'watch TV', 'cloudy': 'walk', 'snowy': 'ski'}\n"
     ]
    }
   ],
   "source": [
    "Weather.update({'snowy':'ski'})\n",
    "print(Weather)"
   ]
  },
  {
   "cell_type": "markdown",
   "metadata": {},
   "source": [
    "Question 6"
   ]
  },
  {
   "cell_type": "code",
   "execution_count": 30,
   "metadata": {},
   "outputs": [
    {
     "name": "stdout",
     "output_type": "stream",
     "text": [
      "When sunny let us play\n",
      "When rainy let us watch TV\n",
      "When cloudy let us walk\n"
     ]
    }
   ],
   "source": [
    "for key, value in Weather.items():\n",
    "    if key == \"sunny\":\n",
    "        print(\"When\", key, \"let us\", value)\n",
    "    else:\n",
    "        if key == \"rainy\":\n",
    "            print(\"When\", key, \"let us\", value) \n",
    "        if key == \"cloudy\":\n",
    "            print(\"When\", key, \"let us\", value)\n",
    "  "
   ]
  },
  {
   "cell_type": "markdown",
   "metadata": {},
   "source": [
    "Question 7"
   ]
  },
  {
   "cell_type": "code",
   "execution_count": 32,
   "metadata": {},
   "outputs": [
    {
     "name": "stdout",
     "output_type": "stream",
     "text": [
      "Grade is B\n"
     ]
    }
   ],
   "source": [
    "grade = 82\n",
    "\n",
    "if grade >= 90:\n",
    "    print('Grade is A')\n",
    "elif (grade >=80) & (grade < 90):\n",
    "    print('Grade is B')\n",
    "elif (grade >=70) & (grade < 80):\n",
    "    print('Grade is C')\n",
    "elif (grade >= 60) & (grade < 70):\n",
    "    print('Grade is D')\n",
    "else:\n",
    "    print('Grade is F')\n",
    "    "
   ]
  },
  {
   "cell_type": "code",
   "execution_count": null,
   "metadata": {},
   "outputs": [],
   "source": []
  }
 ],
 "metadata": {
  "kernelspec": {
   "display_name": "Python 3",
   "language": "python",
   "name": "python3"
  },
  "language_info": {
   "codemirror_mode": {
    "name": "ipython",
    "version": 3
   },
   "file_extension": ".py",
   "mimetype": "text/x-python",
   "name": "python",
   "nbconvert_exporter": "python",
   "pygments_lexer": "ipython3",
   "version": "3.8.5"
  }
 },
 "nbformat": 4,
 "nbformat_minor": 4
}
